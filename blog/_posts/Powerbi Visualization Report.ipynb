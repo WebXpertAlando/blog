{
 "cells": [
  {
   "cell_type": "code",
   "execution_count": 5,
   "id": "ee852239",
   "metadata": {},
   "outputs": [
    {
     "ename": "ModuleNotFoundError",
     "evalue": "No module named 'powerbiclient'",
     "output_type": "error",
     "traceback": [
      "\u001b[1;31m---------------------------------------------------------------------------\u001b[0m",
      "\u001b[1;31mModuleNotFoundError\u001b[0m                       Traceback (most recent call last)",
      "Cell \u001b[1;32mIn[5], line 1\u001b[0m\n\u001b[1;32m----> 1\u001b[0m \u001b[38;5;28;01mfrom\u001b[39;00m \u001b[38;5;21;01mpowerbiclient\u001b[39;00m \u001b[38;5;28;01mimport\u001b[39;00m QuickVisualize, get_dataset_config, Report\n\u001b[0;32m      2\u001b[0m \u001b[38;5;28;01mfrom\u001b[39;00m \u001b[38;5;21;01mpowerbiclient\u001b[39;00m\u001b[38;5;21;01m.\u001b[39;00m\u001b[38;5;21;01mauthentication\u001b[39;00m \u001b[38;5;28;01mimport\u001b[39;00m DeviceCodeLoginAuthentication\n\u001b[0;32m      3\u001b[0m \u001b[38;5;28;01mfrom\u001b[39;00m \u001b[38;5;21;01mpowerbiclient\u001b[39;00m\u001b[38;5;21;01m.\u001b[39;00m\u001b[38;5;21;01mauthentication\u001b[39;00m \u001b[38;5;28;01mimport\u001b[39;00m InteractiveLoginAuthentication\n",
      "\u001b[1;31mModuleNotFoundError\u001b[0m: No module named 'powerbiclient'"
     ]
    }
   ],
   "source": [
    "from powerbiclient import QuickVisualize, get_dataset_config, Report\n",
    "from powerbiclient.authentication import DeviceCodeLoginAuthentication\n",
    "from powerbiclient.authentication import InteractiveLoginAuthentication\n",
    "\n",
    "import pandas as pd"
   ]
  },
  {
   "cell_type": "code",
   "execution_count": 2,
   "id": "1ffad8bf",
   "metadata": {},
   "outputs": [
    {
     "name": "stdout",
     "output_type": "stream",
     "text": [
      "   PassengerId  Survived  Pclass     Sex   Age  SibSp  Parch     Fare  \\\n",
      "0            1         0       3    Male  22.0      1      0   7.2500   \n",
      "1            2         1       1  female  38.0      1      0  71.2833   \n",
      "2            3         1       3  female  26.0      0      0   7.9250   \n",
      "3            4         1       1  female  35.0      1      0  53.1000   \n",
      "4            5         0       3    Male  35.0      0      0   8.0500   \n",
      "\n",
      "   Embarked  \n",
      "0         3  \n",
      "1         1  \n",
      "2         3  \n",
      "3         3  \n",
      "4         3  \n"
     ]
    }
   ],
   "source": [
    "import pandas as pd\n",
    "\n",
    "df = pd.read_csv(\"C:/Users/WebXpert/Boot Camp Data Science wk1/SVMtrain.csv\")\n",
    "\n",
    "print(df.head())"
   ]
  },
  {
   "cell_type": "code",
   "execution_count": 3,
   "id": "e4d5c15e",
   "metadata": {},
   "outputs": [
    {
     "ename": "NameError",
     "evalue": "name 'DeviceCodeLoginAuthentication' is not defined",
     "output_type": "error",
     "traceback": [
      "\u001b[1;31m---------------------------------------------------------------------------\u001b[0m",
      "\u001b[1;31mNameError\u001b[0m                                 Traceback (most recent call last)",
      "Cell \u001b[1;32mIn[3], line 1\u001b[0m\n\u001b[1;32m----> 1\u001b[0m auth \u001b[38;5;241m=\u001b[39m DeviceCodeLoginAuthentication()\n",
      "\u001b[1;31mNameError\u001b[0m: name 'DeviceCodeLoginAuthentication' is not defined"
     ]
    }
   ],
   "source": [
    "auth = DeviceCodeLoginAuthentication()"
   ]
  },
  {
   "cell_type": "code",
   "execution_count": null,
   "id": "3c51434c",
   "metadata": {},
   "outputs": [],
   "source": [
    "QuickVisualize(get_dataset_conf(df), auth)"
   ]
  }
 ],
 "metadata": {
  "kernelspec": {
   "display_name": "Python 3 (ipykernel)",
   "language": "python",
   "name": "python3"
  },
  "language_info": {
   "codemirror_mode": {
    "name": "ipython",
    "version": 3
   },
   "file_extension": ".py",
   "mimetype": "text/x-python",
   "name": "python",
   "nbconvert_exporter": "python",
   "pygments_lexer": "ipython3",
   "version": "3.11.5"
  }
 },
 "nbformat": 4,
 "nbformat_minor": 5
}
